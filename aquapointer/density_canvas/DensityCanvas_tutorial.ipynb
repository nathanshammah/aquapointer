{
 "cells": [
  {
   "cell_type": "code",
   "execution_count": 2,
   "metadata": {},
   "outputs": [],
   "source": [
    "import numpy as np\n",
    "from DensityCanvas import DensityCanvas\n",
    "from norms import Lp_norm, Lp_distance, KL_norm, JS_norm"
   ]
  },
  {
   "cell_type": "markdown",
   "metadata": {},
   "source": [
    "# Intro\n",
    "A density canvas is intended as a class to strandardize the way we work with densities.<br>\n",
    "It is essentially a 2d canvas where we can define a scalar density function.<br>\n",
    "It is supposed to automatize certain recurring operations: generating sum of gaussians, performing arithmetic operations between two densities, calculating norms, embedding registers, calculating QUBO coefficients, and more.<br>\n",
    "This notebook presents the functionalities implemented so far.  \n"
   ]
  },
  {
   "cell_type": "markdown",
   "metadata": {},
   "source": [
    "## Creating a canvas\n",
    "To create a canvas, you need to supply:\n",
    "1. An origin (coordinates of the bottom left corner)\n",
    "2. The length in X and Y direction (as two separate variables)\n",
    "3. The resolution in X and Y direction (as two separate variables)"
   ]
  },
  {
   "cell_type": "code",
   "execution_count": null,
   "metadata": {},
   "outputs": [],
   "source": [
    "# this creates an empty canvas representing a 40x40 region, composed of 1200x1200=1440000 points\n",
    "canvas = DensityCanvas(\n",
    "    origin=(-20,-20),\n",
    "    length_x=40,\n",
    "    length_y=40,\n",
    "    npoints_x=1200,\n",
    "    npoints_y=1200,\n",
    "    )"
   ]
  },
  {
   "cell_type": "code",
   "execution_count": null,
   "metadata": {},
   "outputs": [],
   "source": [
    "# a canvas can be drawn, but at first it's just empty so it's just a flat 2d plot that is 0 everywhere\n",
    "canvas.draw()"
   ]
  },
  {
   "cell_type": "markdown",
   "metadata": {},
   "source": [
    "## Defining a density\n",
    "You can define a density to put in a canvas. For now you can either pass an existing density (as a numpy array) that you got from somewhere else, or you can define it as a sum of Gaussians. To define a density as a sum of Gaussians you need to provide:\n",
    "1. The centers of the Gaussians (as a list of coordinates)\n",
    "2. The variance of the Gaussians (as a single number)\n",
    "3. the amplitude of the gaussians (as a single number) "
   ]
  },
  {
   "cell_type": "code",
   "execution_count": null,
   "metadata": {},
   "outputs": [],
   "source": [
    "# define centers, variances, amplitudes\n",
    "centers = np.array([[0,0], [5,5], [-3,-3]])\n",
    "variance = 1\n",
    "amplitude = 10\n",
    "\n",
    "# assign the density to the canvas\n",
    "canvas.set_density_from_gaussians(\n",
    "    centers=centers,\n",
    "    amplitude=amplitude,\n",
    "    variance=variance\n",
    ")"
   ]
  },
  {
   "cell_type": "code",
   "execution_count": null,
   "metadata": {},
   "outputs": [],
   "source": [
    "# now you can plot it again to see the Gaussians\n",
    "\n",
    "canvas.draw()"
   ]
  },
  {
   "cell_type": "code",
   "execution_count": null,
   "metadata": {},
   "outputs": [],
   "source": [
    "# you can also choose to display the center of the Gaussians as red crosses\n",
    "canvas.draw(draw_centers=True)"
   ]
  },
  {
   "cell_type": "code",
   "execution_count": null,
   "metadata": {},
   "outputs": [],
   "source": [
    "# if you wish, you can delete every density related info from a canvas.\n",
    "# plotting it will return an empty one.\n",
    "\n",
    "canvas.clear_density()\n",
    "canvas.draw()"
   ]
  },
  {
   "cell_type": "markdown",
   "metadata": {},
   "source": [
    "## Arithmetic operations\n",
    "You can perform binary arithmetic operations with canvases:\n",
    "1. sum and difference (element-wise sum/difference between the densities)\n",
    "2. product of two canvases (element-wise product between the two densities)\n",
    "3. product between a number and a canvas (multiply density by a fixed value)\n",
    "4. Taking powers of a canvas (element-wise power of density)\n",
    "\n",
    "In order for the operations to be well defined, the two canvases need to be built with the same parameters (same origin, same length, same resolution)"
   ]
  },
  {
   "cell_type": "code",
   "execution_count": null,
   "metadata": {},
   "outputs": [],
   "source": [
    "# define two test canvases\n",
    "\n",
    "stg1 = DensityCanvas(\n",
    "    origin=(-20,-20),\n",
    "    length_x=40,\n",
    "    length_y=40,\n",
    "    npoints_x=1200,\n",
    "    npoints_y=1200,\n",
    "    )\n",
    "\n",
    "stg2 = DensityCanvas(\n",
    "    origin=(-20,-20),\n",
    "    length_x=40,\n",
    "    length_y=40,\n",
    "    npoints_x=1200,\n",
    "    npoints_y=1200,\n",
    "    )\n",
    "\n",
    "\n",
    "centers1 = np.array([[0,0], [5,5], [-3,-3]])\n",
    "centers2 = np.array([[0,10], [-4,3], [-1,-5]])\n",
    "variance = 10\n",
    "amplitude = 10\n",
    "\n",
    "stg1.set_density_from_gaussians(centers1, amplitude, variance)\n",
    "stg2.set_density_from_gaussians(centers2, amplitude, variance)\n",
    "\n",
    "stg1.draw()\n",
    "stg2.draw()\n"
   ]
  },
  {
   "cell_type": "code",
   "execution_count": null,
   "metadata": {},
   "outputs": [],
   "source": [
    "# sum\n",
    "sum_stg = stg1 + stg2\n",
    "\n",
    "# difference\n",
    "diff_stg = stg1 - stg2\n",
    "\n",
    "# canvas product\n",
    "prod_stg = stg1*stg2\n",
    "\n",
    "# scalar product\n",
    "scal_prod_stg = 5*stg1\n",
    "\n",
    "# power\n",
    "pow_stg = stg1**4"
   ]
  },
  {
   "cell_type": "code",
   "execution_count": null,
   "metadata": {},
   "outputs": [],
   "source": [
    "#visualize\n",
    "sum_stg.draw()\n",
    "diff_stg.draw()\n",
    "prod_stg.draw()\n",
    "scal_prod_stg.draw()\n",
    "pow_stg.draw()"
   ]
  },
  {
   "cell_type": "markdown",
   "metadata": {},
   "source": [
    "## Integral\n",
    "\n",
    "It is possible to integrate a canvas (meaning taking the integral of the density in the whole region)"
   ]
  },
  {
   "cell_type": "code",
   "execution_count": null,
   "metadata": {},
   "outputs": [],
   "source": [
    "# to integrate, either call integrate()\n",
    "print(stg1.integrate())\n",
    "\n",
    "# or cast a canvas to float\n",
    "print(float(stg1))"
   ]
  },
  {
   "cell_type": "markdown",
   "metadata": {},
   "source": [
    "## Norms\n",
    "\n",
    "It is possible to calculate the norm of a canvas (meaning calculating a functional norm of the density). <br>"
   ]
  },
  {
   "cell_type": "code",
   "execution_count": null,
   "metadata": {},
   "outputs": [],
   "source": [
    "# To calculate an Lp norm, choose the canvas and a p\n",
    "print(\n",
    "    Lp_norm(stg1, p=2)\n",
    ")\n",
    "\n",
    "# To measure an Lp distance between two canvases, either call norm on the difference\n",
    "print(\n",
    "    Lp_norm(stg1-stg2, p=2)\n",
    ")\n",
    "\n",
    "# Or call Lp_distance\n",
    "print(\n",
    "    Lp_distance(stg1, stg2, p=2)\n",
    ")"
   ]
  },
  {
   "cell_type": "markdown",
   "metadata": {},
   "source": [
    "## Lattices\n",
    "The next step is to define a lattice on top of a density. <br>\n",
    "It is possible to do so by either supplying a set of custom positions, or by creating a rectangular lattice with the helper function provided.<br>\n",
    "The lattice can be drawn by specifying draw_lattice=True, and it is displayed as blue dots."
   ]
  },
  {
   "cell_type": "code",
   "execution_count": null,
   "metadata": {},
   "outputs": [],
   "source": [
    "# define a lattice with custom positions\n",
    "pos = [[-5,-5], [2,3], [7,-1]]\n",
    "stg1.define_custom_lattice(pos)\n",
    "stg1.draw(draw_lattice=True)"
   ]
  },
  {
   "cell_type": "code",
   "execution_count": null,
   "metadata": {},
   "outputs": [],
   "source": [
    "# clear existing lattice\n",
    "stg1.clear_lattice()\n",
    "\n",
    "# define a 5x4 rectangular lattice with lattice spacing 4\n",
    "stg1.define_rectangular_lattice(xnum=5, ynum=4, spacing=4)\n",
    "stg1.draw(draw_lattice=True)"
   ]
  },
  {
   "cell_type": "code",
   "execution_count": null,
   "metadata": {},
   "outputs": [],
   "source": [
    "# lattice and centers can be displayed together\n",
    "stg1.draw(draw_centers=True, draw_lattice=True)"
   ]
  },
  {
   "cell_type": "markdown",
   "metadata": {},
   "source": [
    "# Cost functions, (Q)UBO coefficients\n",
    "Once a density and a lattice has been defined, it is possible to calculate the coefficients of the (Q)UBO problem.<br>\n",
    "The Q has been put in between parentheses because depending on the order of the Lp norm chosen, it can be more than quadratic.<br>"
   ]
  },
  {
   "cell_type": "markdown",
   "metadata": {},
   "source": [
    "## Calculating (Q)UBO coefficients"
   ]
  },
  {
   "cell_type": "code",
   "execution_count": null,
   "metadata": {},
   "outputs": [],
   "source": [
    "# define a canvas\n",
    "canvas = DensityCanvas(\n",
    "    origin=(-20,-20),\n",
    "    length_x=40,\n",
    "    length_y=40,\n",
    "    npoints_x=100,\n",
    "    npoints_y=100,\n",
    ")\n",
    "\n",
    "# define a base density as a sum of Gaussians\n",
    "canvas.set_density_from_gaussians(\n",
    "    centers = np.array([[0,0], [5,5], [-3,-3]]),\n",
    "    amplitude = 10,\n",
    "    variance = 10,\n",
    ")\n",
    "\n",
    "# define a small rectangular lattice (to make calculations faster)\n",
    "canvas.define_rectangular_lattice(xnum=2, ynum=3, spacing=5)\n",
    "canvas.draw(draw_centers=True, draw_lattice=True)"
   ]
  },
  {
   "cell_type": "code",
   "execution_count": null,
   "metadata": {},
   "outputs": [],
   "source": [
    "# now decide the order of the Lp norm and the parameters of the test Gaussian mixture\n",
    "mixture_parameters = [15, 15]   # test amplitude and variance\n",
    "p = 4   # order of the Lp norm\n",
    "\n",
    "# calculate the coefficients\n",
    "canvas.calculate_ubo_coefficients(p, mixture_parameters)"
   ]
  },
  {
   "cell_type": "code",
   "execution_count": null,
   "metadata": {},
   "outputs": [],
   "source": [
    "# the coefficients are stored, together with the mixture parameters and the Lp order, in a dictionary\n",
    "for key, val in canvas._ubo.items():\n",
    "    print(key, \"=\", val)"
   ]
  },
  {
   "cell_type": "code",
   "execution_count": null,
   "metadata": {},
   "outputs": [],
   "source": [
    "# to see them better, print the coefficients out order by order\n",
    "for i in range(1, p+1):\n",
    "    print(f\"Coefficients of order {i}:\")\n",
    "    print(canvas._ubo[\"coeffs\"][i])\n",
    "    print()"
   ]
  },
  {
   "cell_type": "code",
   "execution_count": null,
   "metadata": {},
   "outputs": [],
   "source": [
    "# focus on the coefficients of order 2\n",
    "# they are a dictionary where the key is of the type (i,j) and the value is a number\n",
    "# this gives you the interaction strength between lattice point i and j\n",
    "for pair, strength in canvas._ubo[\"coeffs\"][2].items():\n",
    "    print(f\"interacting lattice points: {pair}      interaction strength: {strength}\")"
   ]
  },
  {
   "cell_type": "code",
   "execution_count": null,
   "metadata": {},
   "outputs": [],
   "source": [
    "# it is possible to truncate the calculation of the coefficients\n",
    "# either from below (starting from terms of order > 1)\n",
    "# or from above (ending with terms of order < p)\n",
    "# by using the \"high\" and \"low\" arguments\n",
    "\n",
    "# in this example, p=6 is used, but only coefficients of order 2,3,4 are calculated\n",
    "canvas.clear_ubo()\n",
    "p=6\n",
    "canvas.calculate_ubo_coefficients(p, mixture_parameters, low=2, high=4)\n",
    "for i in range(1, p+1):\n",
    "    print(f\"Coefficients of order {i}:\")\n",
    "    try:\n",
    "        print(canvas._ubo[\"coeffs\"][i])\n",
    "    except KeyError:\n",
    "        print('missing')\n",
    "    print()"
   ]
  },
  {
   "cell_type": "markdown",
   "metadata": {},
   "source": [
    "## Evaluating cost of bitstrings"
   ]
  },
  {
   "cell_type": "code",
   "execution_count": null,
   "metadata": {},
   "outputs": [],
   "source": [
    "# once coefficients are calculated, it is possible to efficiently evaluate the cost of a bitstring\n",
    "\n",
    "# calculate QUBO coefficients\n",
    "canvas.clear_ubo()\n",
    "p=2\n",
    "canvas.calculate_ubo_coefficients(p, mixture_parameters)\n",
    "\n",
    "# calcualte cost of random bitstrings\n",
    "bitstrings = [\"101011\", \"010010\", \"101100\"]\n",
    "for bs in bitstrings:\n",
    "    print(f\"cost of {bs}:\", canvas.calculate_bitstring_cost_from_coefficients(bs))\n"
   ]
  },
  {
   "cell_type": "code",
   "execution_count": null,
   "metadata": {},
   "outputs": [],
   "source": [
    "# if truncation is not present, the cost can also be calculated directly from a norm\n",
    "for bs in bitstrings:\n",
    "    cost = canvas.calculate_bitstring_cost_from_norm(\n",
    "        bitstring = bs,\n",
    "        mixture_params = mixture_parameters, \n",
    "        norm = Lp_norm, #choice of norm function\n",
    "        norm_params = [2] #parameter for the norm, in this case it's just the order\n",
    "    )\n",
    "    print(f\"cost of {bs}:\", cost)\n"
   ]
  },
  {
   "cell_type": "markdown",
   "metadata": {},
   "source": [
    "# Example of workflow"
   ]
  },
  {
   "cell_type": "markdown",
   "metadata": {},
   "source": []
  }
 ],
 "metadata": {
  "kernelspec": {
   "display_name": "main",
   "language": "python",
   "name": "python3"
  },
  "language_info": {
   "codemirror_mode": {
    "name": "ipython",
    "version": 3
   },
   "file_extension": ".py",
   "mimetype": "text/x-python",
   "name": "python",
   "nbconvert_exporter": "python",
   "pygments_lexer": "ipython3",
   "version": "3.8.15"
  }
 },
 "nbformat": 4,
 "nbformat_minor": 2
}
