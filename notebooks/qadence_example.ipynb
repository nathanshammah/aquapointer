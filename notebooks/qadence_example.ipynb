{
 "cells": [
  {
   "cell_type": "code",
   "execution_count": 5,
   "metadata": {},
   "outputs": [],
   "source": [
    "import torch\n",
    "import numpy as np\n",
    "from scipy.optimize import minimize\n",
    "from scipy.spatial.distance import pdist, squareform\n",
    "\n",
    "from pulser.devices import Chadoq2\n",
    "\n",
    "seed = 0\n",
    "np.random.seed(seed)\n",
    "torch.manual_seed(seed)\n",
    "\n",
    "\n",
    "def qubo_register_coords(Q):\n",
    "    \"\"\"Compute coordinates for register.\"\"\"\n",
    "    bitstrings = [np.binary_repr(i, len(Q)) for i in range(len(Q) ** 2)]\n",
    "    costs = []\n",
    "    # this takes exponential time with the dimension of the QUBO\n",
    "    for b in bitstrings:\n",
    "        z = np.array(list(b), dtype=int)\n",
    "        cost = z.T @ Q @ z\n",
    "        costs.append(cost)\n",
    "    zipped = zip(bitstrings, costs)\n",
    "    sort_zipped = sorted(zipped, key=lambda x: x[1])\n",
    "\n",
    "    def evaluate_mapping(new_coords, *args):\n",
    "        \"\"\"Cost function to minimize. Ideally, the pairwise\n",
    "        distances are conserved\"\"\"\n",
    "        Q, shape = args\n",
    "        new_coords = np.reshape(new_coords, shape)\n",
    "        new_Q = squareform(Chadoq2.interaction_coeff / pdist(new_coords) ** 6)\n",
    "        return np.linalg.norm(new_Q - Q)\n",
    "\n",
    "    shape = (len(Q), 2)\n",
    "    costs = []\n",
    "    np.random.seed(0)\n",
    "    x0 = np.random.random(shape).flatten()\n",
    "    res = minimize(\n",
    "        evaluate_mapping,\n",
    "        x0,\n",
    "        args=(Q, shape),\n",
    "        method=\"Nelder-Mead\",\n",
    "        tol=1e-6,\n",
    "        options={\"maxiter\": 200000, \"maxfev\": None},\n",
    "    )\n",
    "    return [(x, y) for (x, y) in np.reshape(res.x, (len(Q), 2))]"
   ]
  },
  {
   "cell_type": "code",
   "execution_count": 2,
   "metadata": {},
   "outputs": [
    {
     "data": {
      "text/plain": [
       "<torch._C.Generator at 0x1642c82b0>"
      ]
     },
     "execution_count": 2,
     "metadata": {},
     "output_type": "execute_result"
    }
   ],
   "source": [
    "import matplotlib.pyplot as plt\n",
    "import numpy as np\n",
    "import torch\n",
    "\n",
    "from qadence import chain\n",
    "from qadence import QuantumModel, QuantumCircuit, Register\n",
    "from qadence import RydbergDevice, AnalogRZ, AnalogRX\n",
    "\n",
    "seed = 0\n",
    "np.random.seed(seed)\n",
    "torch.manual_seed(seed)"
   ]
  },
  {
   "cell_type": "code",
   "execution_count": 3,
   "metadata": {},
   "outputs": [],
   "source": [
    "def cost_colouring(bitstring, Q):\n",
    "    z = np.array(list(bitstring), dtype=int)\n",
    "    cost = z.T @ Q @ z\n",
    "    return cost\n",
    "\n",
    "# Cost function.\n",
    "def cost_fn(counter, Q):\n",
    "    cost = sum(counter[key] * cost_colouring(key, Q) for key in counter)\n",
    "    return cost / sum(counter.values())  # Divide by total samples\n",
    "\n",
    "\n",
    "# Weights.\n",
    "Q = np.array(\n",
    "    [\n",
    "        [-0.01074377,  0.04727714,  0.04727714,  0.04727714],\n",
    "        [ 0.04727714, -0.00892812,  0.03218907,  0.04727714],\n",
    "        [ 0.04727714,  0.03218907, -0.00865155,  0.04727714],\n",
    "        [ 0.04727714,  0.04727714,  0.04727714, -0.00969204]\n",
    "    ]\n",
    ")\n"
   ]
  },
  {
   "cell_type": "code",
   "execution_count": 6,
   "metadata": {},
   "outputs": [],
   "source": [
    "# Register with device specs\n",
    "device = RydbergDevice(rydberg_level = 70)\n",
    "\n",
    "reg = Register.from_coordinates(\n",
    "    qubo_register_coords(Q),\n",
    "    device_specs = device\n",
    ")\n",
    "\n",
    "# Analog circuit\n",
    "layers = 2\n",
    "\n",
    "block = chain(*[AnalogRX(f\"t{i}\") * AnalogRZ(f\"s{i}\") for i in range(layers)])"
   ]
  },
  {
   "cell_type": "code",
   "execution_count": 12,
   "metadata": {},
   "outputs": [
    {
     "data": {
      "text/plain": [
       "Counter({'0000': 164,\n",
       "         '0001': 99,\n",
       "         '0100': 92,\n",
       "         '1000': 72,\n",
       "         '0010': 71,\n",
       "         '1100': 64,\n",
       "         '0011': 54,\n",
       "         '1001': 54,\n",
       "         '0101': 51,\n",
       "         '1010': 47,\n",
       "         '1110': 47,\n",
       "         '0110': 46,\n",
       "         '1011': 40,\n",
       "         '0111': 34,\n",
       "         '1111': 34,\n",
       "         '1101': 31})"
      ]
     },
     "execution_count": 12,
     "metadata": {},
     "output_type": "execute_result"
    }
   ],
   "source": [
    "model = QuantumModel(\n",
    "    QuantumCircuit(reg, block),\n",
    "    backend=\"pyqtorch\", diff_mode='gpsr')\n",
    "initial_counts = model.sample({}, n_shots=1000)[0]\n",
    "initial_counts"
   ]
  },
  {
   "cell_type": "code",
   "execution_count": 8,
   "metadata": {},
   "outputs": [],
   "source": [
    "def loss(param, *args):\n",
    "    Q = args[0]\n",
    "    param = torch.tensor(param)\n",
    "    model.reset_vparams(param)\n",
    "    C = model.sample({}, n_shots=1000)[0]\n",
    "    return cost_fn(C, Q)"
   ]
  },
  {
   "cell_type": "code",
   "execution_count": 9,
   "metadata": {},
   "outputs": [],
   "source": [
    "# Optimization loop.\n",
    "for i in range(20):\n",
    "    res = minimize(\n",
    "        loss,\n",
    "        args=Q,\n",
    "        x0=np.random.uniform(1, 10, size=2 * layers),\n",
    "        method=\"COBYLA\",\n",
    "        tol=1e-8,\n",
    "        options={\"maxiter\": 20},\n",
    "    )\n",
    "\n",
    "# Sample and visualize the optimal solution.\n",
    "model.reset_vparams(res.x)\n",
    "optimal_count = model.sample({}, n_shots=1000)[0]"
   ]
  },
  {
   "cell_type": "code",
   "execution_count": 11,
   "metadata": {},
   "outputs": [
    {
     "data": {
      "text/plain": [
       "Counter({'0000': 833,\n",
       "         '0010': 50,\n",
       "         '1000': 49,\n",
       "         '0001': 38,\n",
       "         '0100': 28,\n",
       "         '0101': 1,\n",
       "         '1001': 1})"
      ]
     },
     "execution_count": 11,
     "metadata": {},
     "output_type": "execute_result"
    }
   ],
   "source": [
    "optimal_count"
   ]
  },
  {
   "cell_type": "code",
   "execution_count": null,
   "metadata": {},
   "outputs": [],
   "source": []
  }
 ],
 "metadata": {
  "kernelspec": {
   "display_name": ".venv",
   "language": "python",
   "name": "python3"
  },
  "language_info": {
   "codemirror_mode": {
    "name": "ipython",
    "version": 3
   },
   "file_extension": ".py",
   "mimetype": "text/x-python",
   "name": "python",
   "nbconvert_exporter": "python",
   "pygments_lexer": "ipython3",
   "version": "3.10.9"
  }
 },
 "nbformat": 4,
 "nbformat_minor": 2
}
