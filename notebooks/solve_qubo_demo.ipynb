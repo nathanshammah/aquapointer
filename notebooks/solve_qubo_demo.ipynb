{
 "cells": [
  {
   "cell_type": "markdown",
   "metadata": {},
   "source": [
    "# Notebook demo of using vqe module to solve a QUBO"
   ]
  },
  {
   "cell_type": "code",
   "execution_count": 2,
   "metadata": {},
   "outputs": [],
   "source": [
    "import sys\n",
    "sys.path.append('../')\n",
    "\n",
    "from aquapointer.digital.loaddata import LoadData\n",
    "from aquapointer.digital.qubo import Qubo\n",
    "import aquapointer.digital.qubo_utils as qutils\n",
    "from aquapointer.digital.vqe import VQE\n",
    "\n",
    "# General imports\n",
    "import numpy as np\n",
    "\n",
    "# Pre-defined ansatz circuit, operator class\n",
    "from qiskit.circuit.library import QAOAAnsatz\n",
    "from qiskit.primitives import Sampler\n",
    "from qiskit import transpile \n",
    "from qiskit import Aer\n",
    "\n",
    "backend = Aer.get_backend('aer_simulator')\n",
    "sampler = Sampler(options={\"shots\": int(1e4)})"
   ]
  },
  {
   "cell_type": "code",
   "execution_count": 3,
   "metadata": {},
   "outputs": [],
   "source": [
    "# LoadData does all the file loading\n",
    "ld = LoadData()\n",
    "\n",
    "# Qubo computes all the qubo matrices given the 3d rism files and rescaled positions of registers from LoadData.\n",
    "q = Qubo(ld)"
   ]
  },
  {
   "cell_type": "code",
   "execution_count": 4,
   "metadata": {},
   "outputs": [
    {
     "data": {
      "text/plain": [
       "array([[-0.01074377,  0.04727714,  0.04727714,  0.04727714],\n",
       "       [ 0.04727714, -0.00892812,  0.03218907,  0.04727714],\n",
       "       [ 0.04727714,  0.03218907, -0.00865155,  0.04727714],\n",
       "       [ 0.04727714,  0.04727714,  0.04727714, -0.00969204]])"
      ]
     },
     "execution_count": 4,
     "metadata": {},
     "output_type": "execute_result"
    }
   ],
   "source": [
    "# use the first slice as an example to solve\n",
    "qubo, ising_ham = q.qubo_hamiltonian_pairs[0]\n",
    "num_qubits = len(qubo)\n",
    "\n",
    "# QAOA ansatz circuit\n",
    "qaoa_ansatz = QAOAAnsatz(ising_ham, reps=1)\n",
    "\n",
    "from qiskit.circuit.library import TwoLocal\n",
    "# TwoLocal ansatz circuit\n",
    "twolocal_ansatz = TwoLocal(num_qubits, 'ry', 'cx',  entanglement='linear', reps=1)\n",
    "qubo"
   ]
  },
  {
   "cell_type": "code",
   "execution_count": 5,
   "metadata": {},
   "outputs": [
    {
     "data": {
      "text/plain": [
       "('1000', -0.010743767178636635)"
      ]
     },
     "execution_count": 5,
     "metadata": {},
     "output_type": "execute_result"
    }
   ],
   "source": [
    "# classical brute-force solution\n",
    "sol, ref_value = q.find_optimum(qubo=qubo)\n",
    "sol, ref_value"
   ]
  },
  {
   "cell_type": "code",
   "execution_count": 6,
   "metadata": {},
   "outputs": [],
   "source": [
    "def top_average_energy(vqe_object: VQE, alpha: float, maxiter: int, fraction: float, verbose=False):\n",
    "\n",
    "    res = vqe_object.run(alpha=alpha, maxiter=maxiter, method='COBYLA')\n",
    "    nfev = res.nfev\n",
    "\n",
    "    # Assign solution parameters to ansatz\n",
    "    qc = vqe_object.ansatz.assign_parameters(vqe_object.params)\n",
    "    # Add measurements to our circuit\n",
    "    qc.measure_all()\n",
    "    # Sample ansatz at optimal parameters\n",
    "    samp_dist = sampler.run(qc, shots=int(1e4)).result().quasi_dists[0]\n",
    "    samp_dist_binary = samp_dist.binary_probabilities()\n",
    "\n",
    "    correct_dist = {}\n",
    "    for key in samp_dist_binary.keys():\n",
    "        reverse_key = key[::-1]\n",
    "        keynot = [(int(b)+1)%2 for b in reverse_key]\n",
    "        correct_dist[''.join(map(str, keynot))] = samp_dist_binary[key]\n",
    "\n",
    "    prob_energy = []\n",
    "    bitstrings = []\n",
    "    for key in correct_dist.keys():\n",
    "        key_np = np.fromiter(map(int, key), dtype=int)\n",
    "        prob_energy.append([correct_dist[key], qutils.ising_energy(key_np, qubo)])\n",
    "        bitstrings.append(key)\n",
    "\n",
    "    bitstrings = np.array(bitstrings)\n",
    "    prob_energy = np.array(prob_energy)\n",
    "\n",
    "    sorted_indices = np.argsort(prob_energy[:, 1])\n",
    "    sorted_keys = bitstrings[sorted_indices]\n",
    "    sorted_values = prob_energy[:, 1][sorted_indices]\n",
    "\n",
    "    opt_energy = sorted_values[0]\n",
    "    opt_b = sorted_keys[0]\n",
    "    \n",
    "    #pick top 10% of lowest observed energies and compute probability mass on them\n",
    "    n = int(len(prob_energy)*fraction)\n",
    "    if verbose:\n",
    "        if n<=1:\n",
    "            print(prob_energy)\n",
    "\n",
    "    total_mass = 0.0\n",
    "    top_avg_energy = 0.0\n",
    "    for i in range(n):\n",
    "        total_mass += correct_dist[sorted_keys[i]]\n",
    "        top_avg_energy += sorted_values[i]*correct_dist[sorted_keys[i]]\n",
    "        if verbose:\n",
    "            print(sorted_values[i], correct_dist[sorted_keys[i]])\n",
    "    top_avg_energy = top_avg_energy / total_mass\n",
    "    return round(top_avg_energy, 5), round(total_mass, 3), nfev, (opt_b, opt_energy)  \n",
    "\n",
    "def probability_opt_sol(vqe_object: VQE, alpha: float, maxiter: int, verbose=False):\n",
    "\n",
    "    res = vqe_object.run(alpha=alpha, maxiter=maxiter, method='COBYLA')\n",
    "    nfev = res.nfev\n",
    "\n",
    "    # Assign solution parameters to ansatz\n",
    "    qc = vqe_object.ansatz.assign_parameters(vqe_object.params)\n",
    "    # Add measurements to our circuit\n",
    "    qc.measure_all()\n",
    "    # Sample ansatz at optimal parameters\n",
    "    samp_dist = sampler.run(qc, shots=int(1e4)).result().quasi_dists[0]\n",
    "    samp_dist_binary = samp_dist.binary_probabilities()\n",
    "\n",
    "    correct_dist = {}\n",
    "    for key in samp_dist_binary.keys():\n",
    "        reverse_key = key[::-1]\n",
    "        keynot = [(int(b)+1)%2 for b in reverse_key]\n",
    "        correct_dist[''.join(map(str, keynot))] = samp_dist_binary[key]\n",
    "\n",
    "    prob_energy = []\n",
    "    bitstrings = []\n",
    "    for key in correct_dist.keys():\n",
    "        key_np = np.fromiter(map(int, key), dtype=int)\n",
    "        prob_energy.append([correct_dist[key], qutils.ising_energy(key_np, qubo)])\n",
    "        bitstrings.append(key)\n",
    "\n",
    "    bitstrings = np.array(bitstrings)\n",
    "    prob_energy = np.array(prob_energy)\n",
    "\n",
    "    sorted_indices = np.argsort(prob_energy[:, 1])\n",
    "    sorted_keys = bitstrings[sorted_indices]\n",
    "    sorted_probs = prob_energy[:, 0][sorted_indices]\n",
    "    sorted_values = prob_energy[:, 1][sorted_indices]\n",
    "\n",
    "    if verbose:\n",
    "        print(prob_energy)\n",
    "\n",
    "    opt_energy = sorted_values[0]\n",
    "    opt_b = sorted_keys[0]\n",
    "    opt_prob = sorted_probs[0]\n",
    "\n",
    "    return opt_b, opt_energy, opt_prob\n"
   ]
  },
  {
   "cell_type": "code",
   "execution_count": 7,
   "metadata": {},
   "outputs": [],
   "source": [
    "# run the optimization for a given vqe_object and a list of confidence intervals\n",
    "def run_optimization(vqe_object, alphas, maxiter):\n",
    "    nfevs = [] #this is for book keeping the number of function evaluations    \n",
    "    opt_energy = np.inf\n",
    "\n",
    "    for alpha in alphas:\n",
    "        top_avg_energy, total_mass, nfev, opt = top_average_energy(vqe_object, alpha, maxiter, 0.2, verbose=False)\n",
    "        nfevs.append(nfev)\n",
    "        if opt_energy>opt[1]:\n",
    "            opt_energy = opt[1]\n",
    "            res = opt\n",
    "            print(opt)\n",
    "        print(f\"{alpha}, {top_avg_energy}, {total_mass}\")\n",
    "    return nfevs, res\n",
    "\n",
    "# run the optimization for a given vqe_object and a list of confidence intervals\n",
    "def run_optimization_prob_opt_sol(vqe_object, alphas, maxiter, verbose=False):\n",
    "    for alpha in alphas:\n",
    "        opt_b, opt_energy, opt_prob = probability_opt_sol(vqe_object, alpha, maxiter)\n",
    "        if verbose:\n",
    "            print(f\"{alpha}, {opt_energy}, {opt_prob}\")\n",
    "    return opt_b, opt_energy, opt_prob\n",
    "\n",
    "#helper function to get number of basis gates used in ansatz\n",
    "def total_gates(ansatz):\n",
    "    basis_gates=['u1', 'u2', 'u3', 'cx']\n",
    "\n",
    "    ansatz_transpiled = transpile(ansatz, backend, basis_gates=['u1', 'u2', 'u3', 'cx'], optimization_level=2)\n",
    "    gates = ansatz_transpiled.count_ops()\n",
    "    depth = ansatz_transpiled.depth()\n",
    "    num_params = ansatz.num_parameters\n",
    "\n",
    "    total_gates = 0\n",
    "    for gate in basis_gates:\n",
    "        total_gates += gates.get(gate, 0)\n",
    "    return total_gates, depth, num_params"
   ]
  },
  {
   "cell_type": "code",
   "execution_count": 8,
   "metadata": {},
   "outputs": [
    {
     "data": {
      "text/plain": [
       "(2, 8)"
      ]
     },
     "execution_count": 8,
     "metadata": {},
     "output_type": "execute_result"
    }
   ],
   "source": [
    "qaoa_ansatz.num_parameters, twolocal_ansatz.num_parameters"
   ]
  },
  {
   "cell_type": "code",
   "execution_count": 9,
   "metadata": {},
   "outputs": [
    {
     "data": {
      "text/plain": [
       "OrderedDict([('cx', 24), ('u1', 16), ('u2', 4), ('u3', 4)])"
      ]
     },
     "execution_count": 9,
     "metadata": {},
     "output_type": "execute_result"
    }
   ],
   "source": [
    "transpiles = transpile(qaoa_ansatz, backend, basis_gates=['u1', 'u2', 'u3', 'cx'], optimization_level=2)\n",
    "transpiles.count_ops()"
   ]
  },
  {
   "cell_type": "code",
   "execution_count": 10,
   "metadata": {},
   "outputs": [
    {
     "name": "stdout",
     "output_type": "stream",
     "text": [
      "('1000', -0.010743767178636635)\n",
      "1.0, -0.00977, 0.18\n",
      "0.75, -0.00979, 0.269\n",
      "0.5, -0.00978, 0.305\n",
      "0.25, -0.00979, 0.35\n",
      "0.1, -0.00978, 0.339\n"
     ]
    }
   ],
   "source": [
    "# EXAMPLE: QAQA\n",
    "\n",
    "alphas = [1.0, 0.75, 0.5, 0.25, 0.1]\n",
    "beta  = [0.7977]#, 0.7905, 0.5657]#, 0.4189]#, 0.3575, 0.3279, 0.2785, 0.1911, 0.1384, 0.0885]\n",
    "gamma = [0.0765]#, 0.1634, 0.3662]#, 0.5890]#, 0.7046, 0.7594, 0.8345, 0.9352, 0.9529, 0.9976]\n",
    "params = beta+gamma\n",
    "vqe_qaoa = VQE(qubo=qubo, ansatz=qaoa_ansatz, ising_ham=ising_ham, sampler=sampler, params=params)\n",
    "\n",
    "nfevs_qaoa = run_optimization(vqe_qaoa, alphas, maxiter=20)"
   ]
  },
  {
   "cell_type": "code",
   "execution_count": 11,
   "metadata": {},
   "outputs": [
    {
     "name": "stdout",
     "output_type": "stream",
     "text": [
      "('1000', -0.010743767178636635)\n",
      "1.0, -0.01073, 0.158\n",
      "0.75, -0.00945, 0.751\n",
      "0.5, -0.00975, 0.486\n",
      "0.25, -0.0106, 0.304\n",
      "0.1, -0.01073, 0.371\n"
     ]
    }
   ],
   "source": [
    "#EXAMPLE: linear entanglement ansatz\n",
    "\n",
    "vqe_linear = VQE(qubo=qubo, ansatz=twolocal_ansatz, ising_ham=ising_ham, sampler=sampler, params=None)\n",
    "alphas = [1.0, 0.75, 0.5, 0.25, 0.1]\n",
    "\n",
    "nfevs_linear = run_optimization(vqe_linear, alphas, maxiter=60)"
   ]
  },
  {
   "cell_type": "code",
   "execution_count": 12,
   "metadata": {},
   "outputs": [
    {
     "name": "stdout",
     "output_type": "stream",
     "text": [
      "20 38\n",
      "qaoa\n",
      "('1000', -0.010743767178636635)\n",
      "1.0, -0.00979, 0.285\n",
      "0.66, -0.00978, 0.325\n",
      "0.33, -0.0098, 0.356\n",
      "linear\n",
      "('1000', -0.010743767178636635)\n",
      "1.0, -0.00984, 0.006\n",
      "0.66, -0.01041, 0.219\n",
      "0.33, -0.01061, 0.414\n",
      "20 41\n",
      "qaoa\n",
      "('010000001', -0.05676551209085727)\n",
      "1.0, 0.02562, 0.207\n",
      "0.66, -0.01006, 0.786\n",
      "0.33, -0.01734, 0.854\n",
      "linear\n",
      "('010000001', -0.05676551209085727)\n",
      "1.0, -0.00427, 0.476\n",
      "0.66, -0.04004, 0.707\n",
      "0.33, -0.03526, 0.751\n",
      "20 42\n",
      "qaoa\n",
      "('10001000000001', -0.07861404665042948)\n",
      "1.0, 0.11037, 0.196\n",
      "0.66, -0.02084, 0.519\n",
      "0.33, -0.03649, 0.628\n",
      "linear\n",
      "('10001000000001', -0.07861404665042948)\n",
      "1.0, -0.04501, 0.297\n",
      "0.66, -0.04105, 0.586\n",
      "0.33, -0.04537, 0.561\n",
      "20 42\n",
      "qaoa\n",
      "('10000000100100', -0.07111143020268126)\n",
      "1.0, 0.17606, 0.197\n",
      "0.66, -0.01819, 0.719\n",
      "0.33, -0.01958, 0.647\n",
      "linear\n",
      "('10000000000101', -0.06931515962887029)\n",
      "1.0, 0.0188, 0.681\n",
      "('10000000100100', -0.07111143020268126)\n",
      "0.66, -0.02704, 0.681\n",
      "0.33, -0.03885, 0.574\n",
      "20 42\n",
      "qaoa\n",
      "('0000010100000', -0.05195638819992217)\n",
      "1.0, 0.19677, 0.188\n",
      "0.66, -0.00484, 0.758\n",
      "0.33, -0.01753, 0.789\n",
      "linear\n",
      "('0000010100000', -0.05195638819992217)\n",
      "1.0, 0.00826, 0.377\n",
      "0.66, -0.03396, 0.668\n",
      "0.33, -0.02817, 0.745\n",
      "20 41\n",
      "qaoa\n",
      "('00010000', -0.02404680978135616)\n",
      "1.0, 0.03598, 0.204\n",
      "0.66, 0.00742, 0.719\n",
      "0.33, 0.00363, 0.861\n",
      "linear\n",
      "('00010000', -0.02404680978135616)\n",
      "1.0, 0.00189, 0.356\n",
      "0.66, -0.01156, 0.709\n",
      "0.33, 0.00522, 0.739\n"
     ]
    }
   ],
   "source": [
    "# now we solve all the qubo's and output optimal bitstrings of for each slice using QAOA and twolocal ansatz\n",
    "alphas = [1.0, 0.66, 0.33]\n",
    "nfevs_qaoa_slices = []\n",
    "nfevs_linear_slices = []\n",
    "\n",
    "res_qaoa_slices = []\n",
    "res_linear_slices = []\n",
    "\n",
    "for qubo, ising_ham in q.qubo_hamiltonian_pairs:\n",
    "    \n",
    "    num_qubits = len(qubo)\n",
    "    qaoa_ansatz = QAOAAnsatz(ising_ham, reps=1)\n",
    "    beta  = [0.7977]#, 0.7905, 0.5657]#, 0.4189]#, 0.3575, 0.3279, 0.2785, 0.1911, 0.1384, 0.0885]\n",
    "    gamma = [0.0765]#, 0.1634, 0.3662]#, 0.5890]#, 0.7046, 0.7594, 0.8345, 0.9352, 0.9529, 0.9976]\n",
    "    params = beta+gamma\n",
    "    vqe_qaoa = VQE(qubo=qubo, ansatz=qaoa_ansatz, ising_ham=ising_ham, sampler=sampler, params=params)\n",
    "\n",
    "    #using linear entanglement ansatz\n",
    "    # TwoLocal ansatz circuit\n",
    "    twolocal_ansatz = TwoLocal(num_qubits, 'ry', 'cx',  entanglement='linear', reps=1)\n",
    "    vqe_linear = VQE(qubo=qubo, ansatz=twolocal_ansatz, ising_ham=ising_ham, sampler=sampler, params=None)\n",
    "\n",
    "    # compute number of gates to specify maxiter for the different ansatzes\n",
    "    # to keep it fair, we want number_of_gates * maxiter to be the same for both instances\n",
    "    resources_qaoa, resources_twolocal = total_gates(qaoa_ansatz), total_gates(twolocal_ansatz)\n",
    "    maxiter_qaoa = 20\n",
    "    maxiter_linear = int(maxiter_qaoa * (resources_qaoa[1]/resources_twolocal[1]) * (resources_qaoa[2]/resources_twolocal[2]))\n",
    "\n",
    "    print(maxiter_qaoa, maxiter_linear)\n",
    "\n",
    "    print('qaoa')\n",
    "    nfevs_qaoa, res_qaoa = run_optimization(vqe_qaoa, alphas, maxiter=maxiter_qaoa)\n",
    "    nfevs_qaoa_slices.append(nfevs_qaoa)\n",
    "    res_qaoa_slices.append(res_qaoa)\n",
    "\n",
    "    print('linear')\n",
    "    nfevs_linear, res_linear = run_optimization(vqe_linear, alphas, maxiter=maxiter_linear)\n",
    "    nfevs_linear_slices.append(nfevs_linear)\n",
    "    res_linear_slices.append(res_linear)\n"
   ]
  },
  {
   "cell_type": "code",
   "execution_count": 13,
   "metadata": {},
   "outputs": [
    {
     "data": {
      "text/plain": [
       "[('1000', -0.010743767178636635),\n",
       " ('010000001', -0.05676551209085727),\n",
       " ('10001000000001', -0.07861404665042948),\n",
       " ('10000000100100', -0.07111143020268126),\n",
       " ('0000010100000', -0.05195638819992217),\n",
       " ('00010000', -0.02404680978135616)]"
      ]
     },
     "execution_count": 13,
     "metadata": {},
     "output_type": "execute_result"
    }
   ],
   "source": [
    "res_qaoa_slices"
   ]
  },
  {
   "cell_type": "code",
   "execution_count": 14,
   "metadata": {},
   "outputs": [
    {
     "data": {
      "text/plain": [
       "[('1000', -0.010743767178636635),\n",
       " ('010000001', -0.05676551209085727),\n",
       " ('10001000000001', -0.07861404665042948),\n",
       " ('10000000100100', -0.07111143020268126),\n",
       " ('0000010100000', -0.05195638819992217),\n",
       " ('00010000', -0.02404680978135616)]"
      ]
     },
     "execution_count": 14,
     "metadata": {},
     "output_type": "execute_result"
    }
   ],
   "source": [
    "res_linear_slices"
   ]
  },
  {
   "cell_type": "code",
   "execution_count": 15,
   "metadata": {},
   "outputs": [],
   "source": [
    "# now apply the function that maps these bitstrings to water molecule position"
   ]
  },
  {
   "cell_type": "markdown",
   "metadata": {},
   "source": [
    "# Resource estimation/performance"
   ]
  },
  {
   "cell_type": "code",
   "execution_count": 16,
   "metadata": {},
   "outputs": [],
   "source": [
    "# number_of_gates * maxiter is the same for both approaches, this makes a fair comparison in performance"
   ]
  },
  {
   "cell_type": "code",
   "execution_count": 17,
   "metadata": {},
   "outputs": [
    {
     "data": {
      "text/plain": [
       "('00010000', -0.02404680978135616, 0.0218)"
      ]
     },
     "execution_count": 17,
     "metadata": {},
     "output_type": "execute_result"
    }
   ],
   "source": [
    "# EXAMPLE: QAQA\n",
    "\n",
    "alphas = [1.0, 0.75, 0.5, 0.25, 0.1]\n",
    "beta  = [0.7977]#, 0.7905, 0.5657]#, 0.4189]#, 0.3575, 0.3279, 0.2785, 0.1911, 0.1384, 0.0885]\n",
    "gamma = [0.0765]#, 0.1634, 0.3662]#, 0.5890]#, 0.7046, 0.7594, 0.8345, 0.9352, 0.9529, 0.9976]\n",
    "params = beta+gamma\n",
    "vqe_qaoa = VQE(qubo=qubo, ansatz=qaoa_ansatz, ising_ham=ising_ham, sampler=sampler, params=params)\n",
    "\n",
    "probability_opt_sol(vqe_object=vqe_qaoa, alpha=0.9, maxiter=10)"
   ]
  },
  {
   "cell_type": "code",
   "execution_count": 18,
   "metadata": {},
   "outputs": [
    {
     "data": {
      "text/plain": [
       "[('1000', -0.010743767178636635),\n",
       " ('010000001', -0.05676551209085727),\n",
       " ('10001000000001', -0.07861404665042948),\n",
       " ('10000000100100', -0.07111143020268126),\n",
       " ('0000010100000', -0.05195638819992217),\n",
       " ('00010000', -0.02404680978135616)]"
      ]
     },
     "execution_count": 18,
     "metadata": {},
     "output_type": "execute_result"
    }
   ],
   "source": [
    "# let us first list the optimal solutions for the qubo problems using the classical brute force approach\n",
    "optimal_solutions = []\n",
    "\n",
    "for qubo in q.qubo_hamiltonian_pairs:\n",
    "    # classical brute-force solution\n",
    "    solution = q.find_optimum(qubo=qubo[0])\n",
    "    optimal_solutions.append(solution)\n",
    "\n",
    "optimal_solutions"
   ]
  },
  {
   "cell_type": "code",
   "execution_count": 55,
   "metadata": {},
   "outputs": [
    {
     "name": "stdout",
     "output_type": "stream",
     "text": [
      "slice 0\n",
      "slice 1\n",
      "slice 2\n",
      "slice 3\n"
     ]
    }
   ],
   "source": [
    "# now we solve all the qubo's and output optimal bitstrings of for each slice using QAOA and twolocal ansatz\n",
    "alphas = [1.0, 0.5]\n",
    "number_of_iterations = list(range(10, 45, 2))\n",
    "\n",
    "\n",
    "res_qaoa_slices = []\n",
    "res_linear_slices = []\n",
    "\n",
    "i = 0\n",
    "\n",
    "num_mc = 3\n",
    "\n",
    "for qubo, ising_ham in q.qubo_hamiltonian_pairs:\n",
    "    \n",
    "    opt_sol = optimal_solutions[i]\n",
    "    res_qaoa = []\n",
    "    res_linear = []\n",
    "    print(f\"slice {i}\")\n",
    "    i+=1\n",
    "    \n",
    "    for maxiter in number_of_iterations:\n",
    "        \n",
    "        prob_qaoa = 0.0\n",
    "        prob_linear = 0.0\n",
    "        for _ in range(num_mc):\n",
    "            num_qubits = len(qubo)\n",
    "            qaoa_ansatz = QAOAAnsatz(ising_ham, reps=1)\n",
    "            beta  = [0.7977]#, 0.7905, 0.5657]#, 0.4189]#, 0.3575, 0.3279, 0.2785, 0.1911, 0.1384, 0.0885]\n",
    "            gamma = [0.0765]#, 0.1634, 0.3662]#, 0.5890]#, 0.7046, 0.7594, 0.8345, 0.9352, 0.9529, 0.9976]\n",
    "            params = beta+gamma\n",
    "            vqe_qaoa = VQE(qubo=qubo, ansatz=qaoa_ansatz, ising_ham=ising_ham, sampler=sampler, params=params)\n",
    "\n",
    "            #using linear entanglement ansatz\n",
    "            # TwoLocal ansatz circuit\n",
    "            twolocal_ansatz = TwoLocal(num_qubits, 'ry', 'cx',  entanglement='linear', reps=1)\n",
    "            vqe_linear = VQE(qubo=qubo, ansatz=twolocal_ansatz, ising_ham=ising_ham, sampler=sampler, params=None)\n",
    "\n",
    "            # compute number of gates to specify maxiter for the different ansatzes\n",
    "            # to keep it fair, we want number_of_gates * maxiter to be the same for both instances\n",
    "            resources_qaoa, resources_twolocal = total_gates(qaoa_ansatz), total_gates(twolocal_ansatz)\n",
    "            maxiter_qaoa = maxiter\n",
    "            maxiter_linear = int(maxiter_qaoa * (resources_qaoa[1]/resources_twolocal[1]) * (resources_qaoa[2]/resources_twolocal[2]))\n",
    "\n",
    "            # print(maxiter_qaoa, maxiter_linear)\n",
    "\n",
    "            # print('qaoa')\n",
    "            res = run_optimization_prob_opt_sol(vqe_qaoa, alphas, maxiter=maxiter_qaoa)\n",
    "            if opt_sol[0] == res[0]:\n",
    "                prob_qaoa += res[2]/num_mc\n",
    "\n",
    "            # print('linear')\n",
    "            res = run_optimization_prob_opt_sol(vqe_linear, alphas, maxiter=maxiter_linear)\n",
    "            if opt_sol[0] == res[0]:\n",
    "                prob_linear += res[2]/num_mc\n",
    "\n",
    "        res_qaoa.append(prob_qaoa)        \n",
    "        res_linear.append(prob_linear)\n",
    "    res_qaoa_slices.append(res_qaoa)\n",
    "    res_linear_slices.append(res_linear)"
   ]
  },
  {
   "cell_type": "code",
   "execution_count": null,
   "metadata": {},
   "outputs": [
    {
     "data": {
      "text/plain": [
       "[[0.3111, 0.5109, 0.0477, 0.5113, 0.1523, 0.5581],\n",
       " [0.0021, 0.0127, 0.0, 0.3932, 0.3219, 0.0012],\n",
       " [0.0, 0.0003, 0.0001, 0.0, 0.0033, 0.0],\n",
       " [0.0, 0.0, 0.0126, 0.0, 0.0001, 0.0032],\n",
       " [0.001, 0.0, 0.0005, 0.0001, 0.0, 0.0082],\n",
       " [0.0616, 0.0038, 0.0, 0.036, 0.0789, 0.0009]]"
      ]
     },
     "execution_count": 24,
     "metadata": {},
     "output_type": "execute_result"
    }
   ],
   "source": [
    "res_linear_slices"
   ]
  },
  {
   "cell_type": "code",
   "execution_count": null,
   "metadata": {},
   "outputs": [
    {
     "data": {
      "text/plain": [
       "[[0.0913, 0.0947, 0.0783, 0.0971, 0.1044, 0.0689],\n",
       " [0.0073, 0.0095, 0.009, 0.0108, 0.0126, 0.0107],\n",
       " [0.0001, 0.0011, 0.0007, 0.0013, 0.0008, 0.0012],\n",
       " [0.0004, 0.0008, 0.0003, 0.0003, 0.0003, 0.0003],\n",
       " [0.0012, 0.0039, 0.0047, 0.0056, 0.0067, 0.0037],\n",
       " [0.0272, 0.0361, 0.0335, 0.033, 0.0359, 0.0379]]"
      ]
     },
     "execution_count": 25,
     "metadata": {},
     "output_type": "execute_result"
    }
   ],
   "source": [
    "res_qaoa_slices"
   ]
  },
  {
   "cell_type": "code",
   "execution_count": null,
   "metadata": {},
   "outputs": [],
   "source": [
    "number_of_iterations = list(range(10, 40, 5))"
   ]
  },
  {
   "cell_type": "code",
   "execution_count": null,
   "metadata": {},
   "outputs": [
    {
     "data": {
      "image/png": "[encoded data removed]",
      "text/plain": [
       "<Figure size 950x450 with 1 Axes>"
      ]
     },
     "metadata": {},
     "output_type": "display_data"
    }
   ],
   "source": [
    "import matplotlib.pyplot as plt\n",
    "\n",
    "plt.rcParams[\"figure.figsize\"] = [9.50, 4.50]\n",
    "plt.rcParams[\"font.size\"] = 12\n",
    "plt.rcParams['axes.labelweight'] = 'bold'\n",
    "plt.rcParams['axes.titleweight'] = 'bold'\n",
    "\n",
    "slice = 4\n",
    "\n",
    "plt.plot(number_of_iterations, res_linear_slices[slice], '*r', label='twolocal ansatz')\n",
    "plt.plot( number_of_iterations, res_qaoa_slices[slice], '^b', label='QAQA ansatz')\n",
    "# plt.legend()\n",
    "plt.yscale('log')\n",
    "# plt.xscale('log')\n",
    "plt.xlabel('Number of iterations')\n",
    "plt.ylabel('Probability of optimal solution')\n",
    "plt.show()"
   ]
  },
  {
   "cell_type": "code",
   "execution_count": null,
   "metadata": {},
   "outputs": [],
   "source": []
  }
 ],
 "metadata": {
  "kernelspec": {
   "display_name": ".venv",
   "language": "python",
   "name": "python3"
  },
  "language_info": {
   "codemirror_mode": {
    "name": "ipython",
    "version": 3
   },
   "file_extension": ".py",
   "mimetype": "text/x-python",
   "name": "python",
   "nbconvert_exporter": "python",
   "pygments_lexer": "ipython3",
   "version": "3.10.9"
  }
 },
 "nbformat": 4,
 "nbformat_minor": 2
}
