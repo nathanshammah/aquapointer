{
 "cells": [
  {
   "cell_type": "markdown",
   "metadata": {},
   "source": [
    "# Notebook demo of using vqe module to solve a QUBO"
   ]
  },
  {
   "cell_type": "code",
   "execution_count": 1,
   "metadata": {},
   "outputs": [],
   "source": [
    "import sys\n",
    "sys.path.append('../')\n",
    "\n",
    "from aquapointer.digital.loaddata import LoadData\n",
    "from aquapointer.digital.qubo import Qubo\n",
    "import aquapointer.digital.qubo_utils as qutils\n",
    "from aquapointer.digital.vqe import VQE\n",
    "\n",
    "# General imports\n",
    "import numpy as np\n",
    "\n",
    "# Pre-defined ansatz circuit, operator class\n",
    "from qiskit.circuit.library import QAOAAnsatz\n",
    "from qiskit.primitives import Sampler\n",
    "from qiskit import transpile \n",
    "from qiskit import Aer\n",
    "\n",
    "backend = Aer.get_backend('aer_simulator')\n",
    "sampler = Sampler(options={\"shots\": int(1e4)})"
   ]
  },
  {
   "cell_type": "code",
   "execution_count": 2,
   "metadata": {},
   "outputs": [],
   "source": [
    "# LoadData does all the file loading\n",
    "ld = LoadData()\n",
    "\n",
    "# Qubo computes all the qubo matrices given the 3d rism files and rescaled positions of registers from LoadData.\n",
    "q = Qubo(ld)"
   ]
  },
  {
   "cell_type": "code",
   "execution_count": 3,
   "metadata": {},
   "outputs": [
    {
     "data": {
      "text/plain": [
       "array([[-0.01074377,  0.04727714,  0.04727714,  0.04727714],\n",
       "       [ 0.04727714, -0.00892812,  0.03218907,  0.04727714],\n",
       "       [ 0.04727714,  0.03218907, -0.00865155,  0.04727714],\n",
       "       [ 0.04727714,  0.04727714,  0.04727714, -0.00969204]])"
      ]
     },
     "execution_count": 3,
     "metadata": {},
     "output_type": "execute_result"
    }
   ],
   "source": [
    "# use the first slice as an example to solve\n",
    "qubo, ising_ham = q.qubo_hamiltonian_pairs[0]\n",
    "num_qubits = len(qubo)\n",
    "\n",
    "# QAOA ansatz circuit\n",
    "qaoa_ansatz = QAOAAnsatz(ising_ham, reps=1)\n",
    "\n",
    "from qiskit.circuit.library import TwoLocal\n",
    "# TwoLocal ansatz circuit\n",
    "twolocal_ansatz = TwoLocal(num_qubits, 'ry', 'cx',  entanglement='linear', reps=1)\n",
    "qubo"
   ]
  },
  {
   "cell_type": "code",
   "execution_count": 4,
   "metadata": {},
   "outputs": [
    {
     "data": {
      "text/plain": [
       "('1000', -0.010743767178636635)"
      ]
     },
     "execution_count": 4,
     "metadata": {},
     "output_type": "execute_result"
    }
   ],
   "source": [
    "# classical brute-force solution\n",
    "sol, ref_value = q.find_optimum(qubo=qubo)\n",
    "sol, ref_value"
   ]
  },
  {
   "cell_type": "code",
   "execution_count": 5,
   "metadata": {},
   "outputs": [],
   "source": [
    "def prob_optimal_solution(vqe_object: VQE, alpha: float, maxiter: int, fraction: float, verbose=False) -> tuple[float, int]:\n",
    "\n",
    "    res = vqe_object.run(alpha=alpha, maxiter=maxiter, method='COBYLA')\n",
    "    nfev = res.nfev\n",
    "\n",
    "    # Assign solution parameters to ansatz\n",
    "    qc = vqe_object.ansatz.assign_parameters(vqe_object.params)\n",
    "    # Add measurements to our circuit\n",
    "    qc.measure_all()\n",
    "    # Sample ansatz at optimal parameters\n",
    "    samp_dist = sampler.run(qc, shots=int(1e4)).result().quasi_dists[0]\n",
    "    samp_dist_binary = samp_dist.binary_probabilities()\n",
    "\n",
    "    correct_dist = {}\n",
    "    for key in samp_dist_binary.keys():\n",
    "        reverse_key = key[::-1]\n",
    "        keynot = [(int(b)+1)%2 for b in reverse_key]\n",
    "        correct_dist[''.join(map(str, keynot))] = samp_dist_binary[key]\n",
    "\n",
    "    prob_energy = []\n",
    "    bitstrings = []\n",
    "    for key in correct_dist.keys():\n",
    "        key_np = np.fromiter(map(int, key), dtype=int)\n",
    "        prob_energy.append([correct_dist[key], qutils.ising_energy(key_np, qubo)])\n",
    "        bitstrings.append(key)\n",
    "\n",
    "    bitstrings = np.array(bitstrings)\n",
    "    prob_energy = np.array(prob_energy)\n",
    "\n",
    "    sorted_indices = np.argsort(prob_energy[:, 1])\n",
    "    sorted_keys = bitstrings[sorted_indices]\n",
    "    sorted_values = prob_energy[:, 1][sorted_indices]\n",
    "\n",
    "    opt_energy = sorted_values[0]\n",
    "    opt_b = sorted_keys[0]\n",
    "    \n",
    "    #pick top 10% of lowest observed energies and compute probability mass on them\n",
    "    n = int(len(prob_energy)*fraction)\n",
    "    if verbose:\n",
    "        if n<=1:\n",
    "            print(prob_energy)\n",
    "\n",
    "    total_mass = 0.0\n",
    "    top_avg_energy = 0.0\n",
    "    for i in range(n):\n",
    "        total_mass += correct_dist[sorted_keys[i]]\n",
    "        top_avg_energy += sorted_values[i]*correct_dist[sorted_keys[i]]\n",
    "        if verbose:\n",
    "            print(sorted_values[i], correct_dist[sorted_keys[i]])\n",
    "    top_avg_energy = top_avg_energy / total_mass\n",
    "    return round(top_avg_energy, 5), round(total_mass, 3), nfev, (opt_b, opt_energy)  "
   ]
  },
  {
   "cell_type": "code",
   "execution_count": 6,
   "metadata": {},
   "outputs": [],
   "source": [
    "# run the optimization for a given vqe_object and a list of confidence intervals\n",
    "def run_optimization(vqe_object, alphas, maxiter):\n",
    "    nfevs = [] #this is for book keeping the number of function evaluations    \n",
    "    opt_energy = np.inf\n",
    "\n",
    "    for alpha in alphas:\n",
    "        top_avg_energy, total_mass, nfev, opt = prob_optimal_solution(vqe_object, alpha, maxiter, 0.2, verbose=False)\n",
    "        nfevs.append(nfev)\n",
    "        if opt_energy>opt[1]:\n",
    "            opt_energy = opt[1]\n",
    "            res = opt\n",
    "            print(opt)\n",
    "        print(f\"{alpha}, {top_avg_energy}, {total_mass}\")\n",
    "    return nfevs, res\n",
    "\n",
    "#helper function to get number of basis gates used in ansatz\n",
    "def total_gates(ansatz):\n",
    "    basis_gates=['u1', 'u2', 'u3', 'cx']\n",
    "\n",
    "    ansatz_transpiled = transpile(qaoa_ansatz, backend, basis_gates=['u1', 'u2', 'u3', 'cx'], optimization_level=2)\n",
    "    gates = ansatz_transpiled.count_ops()\n",
    "\n",
    "    total_gates = 0\n",
    "    for gate in basis_gates:\n",
    "        total_gates += gates.get(gate, 0)\n",
    "    return total_gates"
   ]
  },
  {
   "cell_type": "code",
   "execution_count": 7,
   "metadata": {},
   "outputs": [
    {
     "name": "stdout",
     "output_type": "stream",
     "text": [
      "('1000', -0.010743767178636635)\n",
      "1.0, -0.00978, 0.189\n",
      "0.75, -0.00979, 0.248\n",
      "0.5, -0.00978, 0.308\n",
      "0.25, -0.0098, 0.321\n",
      "0.1, -0.00976, 0.338\n"
     ]
    }
   ],
   "source": [
    "# EXAMPLE: QAQA\n",
    "\n",
    "alphas = [1.0, 0.75, 0.5, 0.25, 0.1]\n",
    "beta  = [0.7977]#, 0.7905, 0.5657]#, 0.4189]#, 0.3575, 0.3279, 0.2785, 0.1911, 0.1384, 0.0885]\n",
    "gamma = [0.0765]#, 0.1634, 0.3662]#, 0.5890]#, 0.7046, 0.7594, 0.8345, 0.9352, 0.9529, 0.9976]\n",
    "params = beta+gamma\n",
    "vqe_qaoa = VQE(qubo=qubo, ansatz=qaoa_ansatz, ising_ham=ising_ham, sampler=sampler, params=params)\n",
    "\n",
    "nfevs_qaoa = run_optimization(vqe_qaoa, alphas, maxiter=20)"
   ]
  },
  {
   "cell_type": "code",
   "execution_count": 8,
   "metadata": {},
   "outputs": [
    {
     "name": "stdout",
     "output_type": "stream",
     "text": [
      "('1000', -0.010743767178636635)\n",
      "1.0, -0.01072, 0.167\n",
      "0.75, -0.00969, 0.754\n",
      "0.5, -0.00988, 0.506\n",
      "0.25, -0.01074, 0.334\n",
      "0.1, -0.01074, 0.179\n"
     ]
    }
   ],
   "source": [
    "#EXAMPLE: linear entanglement ansatz\n",
    "\n",
    "vqe_linear = VQE(qubo=qubo, ansatz=twolocal_ansatz, ising_ham=ising_ham, sampler=sampler, params=None)\n",
    "alphas = [1.0, 0.75, 0.5, 0.25, 0.1]\n",
    "\n",
    "nfevs_linear = run_optimization(vqe_linear, alphas, maxiter=60)"
   ]
  },
  {
   "cell_type": "code",
   "execution_count": 9,
   "metadata": {},
   "outputs": [
    {
     "name": "stdout",
     "output_type": "stream",
     "text": [
      "qaoa\n",
      "('1000', -0.010743767178636635)\n",
      "1.0, -0.00979, 0.191\n",
      "0.66, -0.00976, 0.247\n",
      "0.33, -0.00979, 0.347\n",
      "linear\n",
      "('1000', -0.010743767178636635)\n",
      "1.0, -0.01058, 0.123\n",
      "0.66, -0.00975, 0.112\n",
      "0.33, -0.01047, 0.444\n",
      "qaoa\n",
      "('010000001', -0.05676551209085727)\n",
      "1.0, 0.02869, 0.191\n",
      "0.66, -0.00436, 0.723\n",
      "0.33, -0.01434, 0.842\n",
      "linear\n",
      "('010000001', -0.05676551209085727)\n",
      "1.0, 0.00383, 0.696\n",
      "0.66, -0.02119, 0.754\n",
      "0.33, -0.02385, 0.794\n",
      "qaoa\n",
      "('10001000000001', -0.07861404665042948)\n",
      "1.0, 0.04144, 0.25\n",
      "0.66, 0.00224, 0.366\n",
      "0.33, -0.00099, 0.381\n",
      "linear\n",
      "('00000001010000', -0.07361176795056312)\n",
      "1.0, 0.04984, 0.393\n",
      "('00001001000000', -0.07443814919873588)\n",
      "0.66, -0.01885, 0.531\n",
      "0.33, -0.0183, 0.51\n",
      "qaoa\n",
      "('01000000101000', -0.06639706847918819)\n",
      "1.0, 0.17129, 0.199\n",
      "('10000000100100', -0.07111143020268126)\n",
      "0.66, -0.01221, 0.553\n",
      "0.33, -0.01926, 0.711\n",
      "linear\n",
      "('10000000000011', -0.06611651718391577)\n",
      "1.0, -0.03327, 0.186\n",
      "0.66, 0.00657, 0.402\n",
      "0.33, -0.02958, 0.407\n",
      "qaoa\n",
      "('0000000010010', -0.05191488530963839)\n",
      "1.0, 0.19177, 0.187\n",
      "('0000010100000', -0.05195638819992217)\n",
      "0.66, 0.00319, 0.687\n",
      "0.33, -0.01393, 0.69\n",
      "linear\n",
      "('0000010100000', -0.05195638819992217)\n",
      "1.0, 0.03606, 0.68\n",
      "0.66, -0.0056, 0.742\n",
      "0.33, -0.00789, 0.73\n",
      "qaoa\n",
      "('00010000', -0.02404680978135616)\n",
      "1.0, 0.03652, 0.212\n",
      "0.66, 0.00989, 0.695\n",
      "0.33, 0.00066, 0.843\n",
      "linear\n",
      "('00010000', -0.02404680978135616)\n",
      "1.0, 0.0129, 0.461\n",
      "0.66, -0.00097, 0.71\n",
      "0.33, -0.01221, 0.68\n"
     ]
    }
   ],
   "source": [
    "# now we solve all the qubo's and output optimal bitstrings of for each slice using QAOA and twolocal ansatz\n",
    "alphas = [1.0, 0.66, 0.33]\n",
    "nfevs_qaoa_slices = []\n",
    "nfevs_linear_slices = []\n",
    "\n",
    "res_qaoa_slices = []\n",
    "res_linear_slices = []\n",
    "\n",
    "for qubo, ising_ham in q.qubo_hamiltonian_pairs:\n",
    "    \n",
    "    num_qubits = len(qubo)\n",
    "    qaoa_ansatz = QAOAAnsatz(ising_ham, reps=1)\n",
    "    beta  = [0.7977]#, 0.7905, 0.5657]#, 0.4189]#, 0.3575, 0.3279, 0.2785, 0.1911, 0.1384, 0.0885]\n",
    "    gamma = [0.0765]#, 0.1634, 0.3662]#, 0.5890]#, 0.7046, 0.7594, 0.8345, 0.9352, 0.9529, 0.9976]\n",
    "    params = beta+gamma\n",
    "    vqe_qaoa = VQE(qubo=qubo, ansatz=qaoa_ansatz, ising_ham=ising_ham, sampler=sampler, params=params)\n",
    "\n",
    "    #using linear entanglement ansatz\n",
    "    # TwoLocal ansatz circuit\n",
    "    twolocal_ansatz = TwoLocal(num_qubits, 'ry', 'cx',  entanglement='linear', reps=1)\n",
    "    vqe_linear = VQE(qubo=qubo, ansatz=twolocal_ansatz, ising_ham=ising_ham, sampler=sampler, params=None)\n",
    "\n",
    "    # compute number of gates to specify maxiter for the different ansatzes\n",
    "    # to keep it fair, we want number_of_gates * maxiter to be the same for both instances\n",
    "    gates_qaoa, gates_twolocal = total_gates(qaoa_ansatz), total_gates(twolocal_ansatz)\n",
    "    maxiter_qaoa = 20\n",
    "    maxiter_linear = maxiter_qaoa * (gates_qaoa//gates_twolocal)\n",
    "\n",
    "    print('qaoa')\n",
    "    nfevs_qaoa, res_qaoa = run_optimization(vqe_qaoa, alphas, maxiter=maxiter_qaoa)\n",
    "    nfevs_qaoa_slices.append(nfevs_qaoa)\n",
    "    res_qaoa_slices.append(res_qaoa)\n",
    "\n",
    "    print('linear')\n",
    "    nfevs_linear, res_linear = run_optimization(vqe_linear, alphas, maxiter=maxiter_linear)\n",
    "    nfevs_linear_slices.append(nfevs_linear)\n",
    "    res_linear_slices.append(res_linear)\n"
   ]
  },
  {
   "cell_type": "code",
   "execution_count": 10,
   "metadata": {},
   "outputs": [
    {
     "data": {
      "text/plain": [
       "[('1000', -0.010743767178636635),\n",
       " ('010000001', -0.05676551209085727),\n",
       " ('10001000000001', -0.07861404665042948),\n",
       " ('10000000100100', -0.07111143020268126),\n",
       " ('0000010100000', -0.05195638819992217),\n",
       " ('00010000', -0.02404680978135616)]"
      ]
     },
     "execution_count": 10,
     "metadata": {},
     "output_type": "execute_result"
    }
   ],
   "source": [
    "res_qaoa_slices"
   ]
  },
  {
   "cell_type": "code",
   "execution_count": 11,
   "metadata": {},
   "outputs": [
    {
     "data": {
      "text/plain": [
       "[('1000', -0.010743767178636635),\n",
       " ('010000001', -0.05676551209085727),\n",
       " ('00001001000000', -0.07443814919873588),\n",
       " ('10000000000011', -0.06611651718391577),\n",
       " ('0000010100000', -0.05195638819992217),\n",
       " ('00010000', -0.02404680978135616)]"
      ]
     },
     "execution_count": 11,
     "metadata": {},
     "output_type": "execute_result"
    }
   ],
   "source": [
    "res_linear_slices"
   ]
  },
  {
   "cell_type": "code",
   "execution_count": null,
   "metadata": {},
   "outputs": [],
   "source": [
    "# now apply the function that maps these bitstrings to water molecule position"
   ]
  },
  {
   "cell_type": "markdown",
   "metadata": {},
   "source": [
    "# Resource estimation"
   ]
  },
  {
   "cell_type": "code",
   "execution_count": null,
   "metadata": {},
   "outputs": [],
   "source": [
    "# number_of_gates * maxiter is the same for both approaches, this makes a fair comparison in performance"
   ]
  }
 ],
 "metadata": {
  "kernelspec": {
   "display_name": ".venv",
   "language": "python",
   "name": "python3"
  },
  "language_info": {
   "codemirror_mode": {
    "name": "ipython",
    "version": 3
   },
   "file_extension": ".py",
   "mimetype": "text/x-python",
   "name": "python",
   "nbconvert_exporter": "python",
   "pygments_lexer": "ipython3",
   "version": "3.10.9"
  }
 },
 "nbformat": 4,
 "nbformat_minor": 2
}
