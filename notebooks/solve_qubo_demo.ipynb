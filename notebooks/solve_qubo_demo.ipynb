{
 "cells": [
  {
   "cell_type": "markdown",
   "metadata": {},
   "source": [
    "# Notebook demo of using vqe module to solve a QUBO"
   ]
  },
  {
   "cell_type": "code",
   "execution_count": 1,
   "metadata": {},
   "outputs": [],
   "source": [
    "from aquapointer.digital.loaddata import LoadData\n",
    "from aquapointer.digital.qubo import Qubo\n",
    "import aquapointer.digital.qubo_utils as qutils\n",
    "from aquapointer.digital.vqe import VQE\n",
    "\n",
    "# General imports\n",
    "import numpy as np\n",
    "\n",
    "# Pre-defined ansatz circuit, operator class\n",
    "from qiskit.circuit.library import QAOAAnsatz\n",
    "from qiskit.primitives import Sampler\n",
    "from qiskit import transpile \n",
    "from qiskit import Aer\n",
    "\n",
    "backend = Aer.get_backend('aer_simulator')\n",
    "sampler = Sampler(options={\"shots\": int(1e4)})"
   ]
  },
  {
   "cell_type": "code",
   "execution_count": 2,
   "metadata": {},
   "outputs": [],
   "source": [
    "# LoadData does all the file loading\n",
    "ld = LoadData()\n",
    "\n",
    "# Qubo computes all the qubo matrices given the 3d rism files and rescaled positions of registers from LoadData.\n",
    "q = Qubo(ld)"
   ]
  },
  {
   "cell_type": "code",
   "execution_count": 3,
   "metadata": {},
   "outputs": [],
   "source": [
    "# use the first slice as an example to solve\n",
    "qubo, ising_ham = q.qubo_hamiltonian_pairs[1]\n",
    "num_qubits = len(qubo)\n",
    "\n",
    "# QAOA ansatz circuit\n",
    "qaoa_ansatz = QAOAAnsatz(ising_ham, reps=1)\n",
    "\n",
    "from qiskit.circuit.library import TwoLocal\n",
    "# TwoLocal ansatz circuit\n",
    "twolocal_ansatz = TwoLocal(num_qubits, 'ry', 'cx',  entanglement='linear', reps=1)"
   ]
  },
  {
   "cell_type": "code",
   "execution_count": 4,
   "metadata": {},
   "outputs": [
    {
     "data": {
      "text/plain": [
       "('010000001', -0.05676551209085727)"
      ]
     },
     "execution_count": 4,
     "metadata": {},
     "output_type": "execute_result"
    }
   ],
   "source": [
    "# classical brute-force solution\n",
    "sol, ref_value = q.find_optimum(qubo=qubo)\n",
    "sol, ref_value"
   ]
  },
  {
   "cell_type": "code",
   "execution_count": 10,
   "metadata": {},
   "outputs": [],
   "source": [
    "def prob_optimal_solution(vqe_object: VQE, alpha: float, fraction: float, verbose=False) -> tuple[float, int]:\n",
    "\n",
    "    res = vqe_object.run(alpha=alpha, method='COBYLA')\n",
    "    #res = vqe_object.run_sharpe(method='COBYLA')\n",
    "    nfev = res.nfev\n",
    "\n",
    "    # Assign solution parameters to ansatz\n",
    "    qc = vqe_object.ansatz.assign_parameters(vqe_object.params)\n",
    "    # Add measurements to our circuit\n",
    "    qc.measure_all()\n",
    "    # Sample ansatz at optimal parameters\n",
    "    samp_dist = sampler.run(qc, shots=int(1e4)).result().quasi_dists[0]\n",
    "    samp_dist_binary = samp_dist.binary_probabilities()\n",
    "\n",
    "    correct_dist = {}\n",
    "    for key in samp_dist_binary.keys():\n",
    "        reverse_key = key[::-1]\n",
    "        keynot = [(int(b)+1)%2 for b in reverse_key]\n",
    "        correct_dist[''.join(map(str, keynot))] = samp_dist_binary[key]\n",
    "\n",
    "    prob_energy = []\n",
    "    bitstrings = []\n",
    "    for key in correct_dist.keys():\n",
    "        key_np = np.fromiter(map(int, key), dtype=int)\n",
    "        prob_energy.append([correct_dist[key], qutils.ising_energy(key_np, qubo)])\n",
    "        bitstrings.append(key)\n",
    "\n",
    "    bitstrings = np.array(bitstrings)\n",
    "    prob_energy = np.array(prob_energy)\n",
    "\n",
    "    sorted_indices = np.argsort(prob_energy[:, 1])\n",
    "    sorted_keys = bitstrings[sorted_indices]\n",
    "    sorted_values = prob_energy[:, 1][sorted_indices]\n",
    "\n",
    "    opt_energy = sorted_values[0]\n",
    "    opt_b = sorted_keys[0]\n",
    "    \n",
    "    #pick top 10% of lowest observed energies and compute probability mass on them\n",
    "    n = int(len(prob_energy)*fraction)\n",
    "    if verbose:\n",
    "        if n<=1:\n",
    "            print(prob_energy)\n",
    "\n",
    "    total_mass = 0.0\n",
    "    top_avg_energy = 0.0\n",
    "    for i in range(n):\n",
    "        total_mass += correct_dist[sorted_keys[i]]\n",
    "        top_avg_energy += sorted_values[i]*correct_dist[sorted_keys[i]]\n",
    "        if verbose:\n",
    "            print(sorted_values[i], correct_dist[sorted_keys[i]])\n",
    "    top_avg_energy = top_avg_energy / total_mass\n",
    "    return round(top_avg_energy, 5), round(total_mass, 3), nfev, (opt_b, opt_energy)  "
   ]
  },
  {
   "cell_type": "code",
   "execution_count": 6,
   "metadata": {},
   "outputs": [],
   "source": [
    "# run the optimization for a given vqe_object and a list of confidence intervals\n",
    "def run_optimization(vqe_object, alphas):\n",
    "    nfevs = [] #this is for book keeping the number of function evaluations    \n",
    "    opt_energy = np.inf\n",
    "\n",
    "    for alpha in alphas:\n",
    "        top_avg_energy, total_mass, nfev, opt = prob_optimal_solution(vqe_object, alpha, 0.2, verbose=False)\n",
    "        nfevs.append(nfev)\n",
    "        if opt_energy>opt[1]:\n",
    "            opt_energy = opt[1]\n",
    "            print(opt)\n",
    "        print(f\"{alpha}, {top_avg_energy}, {total_mass}\")\n",
    "    return nfevs"
   ]
  },
  {
   "cell_type": "code",
   "execution_count": 12,
   "metadata": {},
   "outputs": [
    {
     "name": "stdout",
     "output_type": "stream",
     "text": [
      "('010000001', -0.05676551209085727)\n",
      "1.0, 0.03583, 0.068\n",
      "0.75, -0.01518, 0.844\n",
      "0.5, -0.01898, 0.896\n",
      "0.25, -0.01953, 0.886\n",
      "0.1, -0.01255, 0.687\n"
     ]
    }
   ],
   "source": [
    "alphas = [1.0, 0.75, 0.5, 0.25, 0.1]\n",
    "#using QAOA ansatz\n",
    "beta  = [0.7977]#, 0.7905, 0.5657]#, 0.4189]#, 0.3575, 0.3279, 0.2785, 0.1911, 0.1384, 0.0885]\n",
    "gamma = [0.0765]#, 0.1634, 0.3662]#, 0.5890]#, 0.7046, 0.7594, 0.8345, 0.9352, 0.9529, 0.9976]\n",
    "params = beta+gamma\n",
    "vqe_qaoa = VQE(qubo=qubo, ansatz=qaoa_ansatz, ising_ham=ising_ham, sampler=sampler, params=params)\n",
    "\n",
    "nfevs_qaoa = run_optimization(vqe_qaoa, alphas)"
   ]
  },
  {
   "cell_type": "code",
   "execution_count": 13,
   "metadata": {},
   "outputs": [
    {
     "name": "stdout",
     "output_type": "stream",
     "text": [
      "('010000001', -0.05676551209085727)\n",
      "1.0, -0.01761, 0.308\n",
      "0.75, -0.04173, 0.832\n",
      "0.5, -0.03979, 0.608\n",
      "0.25, -0.01768, 0.484\n",
      "0.1, -0.02245, 0.395\n"
     ]
    }
   ],
   "source": [
    "#using linear entanglement ansatz\n",
    "vqe_linear = VQE(qubo=qubo, ansatz=twolocal_ansatz, ising_ham=ising_ham, sampler=sampler, params=None)\n",
    "alphas = [1.0, 0.75, 0.5, 0.25, 0.1]\n",
    "\n",
    "nfevs_linear = run_optimization(vqe_linear, alphas)"
   ]
  },
  {
   "cell_type": "markdown",
   "metadata": {},
   "source": [
    "# Resource estimation"
   ]
  },
  {
   "cell_type": "code",
   "execution_count": 15,
   "metadata": {},
   "outputs": [],
   "source": [
    "resources_linear = {}\n",
    "resources_qaoa = {}\n",
    "\n",
    "basis_gates=['u1', 'u2', 'u3', 'cx']\n",
    "\n",
    "qaoa_ansatz_transpiled = transpile(qaoa_ansatz, backend, basis_gates=['u1', 'u2', 'u3', 'cx'], optimization_level=2)\n",
    "gates_qaoa = qaoa_ansatz_transpiled.count_ops()\n",
    "\n",
    "twolocal_ansatz_transpiled = transpile(twolocal_ansatz, backend, basis_gates=['u1', 'u2', 'u3', 'cx'], optimization_level=2)\n",
    "gates_twolocal = twolocal_ansatz_transpiled.count_ops()"
   ]
  },
  {
   "cell_type": "code",
   "execution_count": 16,
   "metadata": {},
   "outputs": [
    {
     "data": {
      "text/plain": [
       "[170, 242, 147, 186, 149]"
      ]
     },
     "execution_count": 16,
     "metadata": {},
     "output_type": "execute_result"
    }
   ],
   "source": [
    "nfevs_linear"
   ]
  },
  {
   "cell_type": "code",
   "execution_count": 17,
   "metadata": {},
   "outputs": [
    {
     "data": {
      "text/plain": [
       "[29, 42, 30, 31, 30]"
      ]
     },
     "execution_count": 17,
     "metadata": {},
     "output_type": "execute_result"
    }
   ],
   "source": [
    "nfevs_qaoa"
   ]
  },
  {
   "cell_type": "code",
   "execution_count": 23,
   "metadata": {},
   "outputs": [],
   "source": [
    "for gate in basis_gates:\n",
    "    resources_linear[gate] = nfevs_linear[0] * gates_twolocal.get(gate, 0)\n",
    "    resources_qaoa[gate] = nfevs_qaoa[0] * gates_qaoa.get(gate, 0)"
   ]
  },
  {
   "cell_type": "code",
   "execution_count": 24,
   "metadata": {},
   "outputs": [
    {
     "data": {
      "text/plain": [
       "{'u1': 0, 'u2': 0, 'u3': 3060, 'cx': 1360}"
      ]
     },
     "execution_count": 24,
     "metadata": {},
     "output_type": "execute_result"
    }
   ],
   "source": [
    "resources_linear"
   ]
  },
  {
   "cell_type": "code",
   "execution_count": 25,
   "metadata": {},
   "outputs": [
    {
     "data": {
      "text/plain": [
       "{'u1': 2349, 'u2': 261, 'u3': 261, 'cx': 4176}"
      ]
     },
     "execution_count": 25,
     "metadata": {},
     "output_type": "execute_result"
    }
   ],
   "source": [
    "resources_qaoa"
   ]
  },
  {
   "cell_type": "code",
   "execution_count": null,
   "metadata": {},
   "outputs": [],
   "source": []
  }
 ],
 "metadata": {
  "kernelspec": {
   "display_name": ".venv",
   "language": "python",
   "name": "python3"
  },
  "language_info": {
   "codemirror_mode": {
    "name": "ipython",
    "version": 3
   },
   "file_extension": ".py",
   "mimetype": "text/x-python",
   "name": "python",
   "nbconvert_exporter": "python",
   "pygments_lexer": "ipython3",
   "version": "3.10.7"
  }
 },
 "nbformat": 4,
 "nbformat_minor": 2
}
