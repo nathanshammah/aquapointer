{
 "cells": [
  {
   "cell_type": "code",
   "execution_count": 1,
   "metadata": {},
   "outputs": [],
   "source": [
    "import numpy as np\n",
    "import matplotlib.pyplot as plt\n",
    "import pickle\n",
    "\n",
    "# The 3D-RISM density slices are saved as pickled files in the folder MUP1.\n",
    "# They are indexed by a number (see d_list) which represents the distance in Angstrom\n",
    "# from the central slice.\n",
    "\n",
    "d_list = [-1.0, -0.5, 0.0, 0.5, 1.0, 1.5]\n",
    "\n",
    "# import slices\n",
    "path = \"../MUP1/MUP1_logfilter8_slices/\"\n",
    "basename = \"_density_slice_MUP1_logfilter8.p\"\n",
    "densities = []\n",
    "for d in d_list:\n",
    "    filename = path + f\"d{d}\" + basename\n",
    "    with open(filename, 'rb') as file_in:\n",
    "         densities.append(pickle.load(file_in))\n",
    "            \n",
    "# import slice coordinates (these are 3D coordinates in\n",
    "# angstroms, they are needed at the very end to map\n",
    "# excited qubits to positions in the protein cavity)\n",
    "path = \"../MUP1/MUP1_logfilter8_points/\"\n",
    "basename = \"_plane_points_MUP1.p\"\n",
    "points = []\n",
    "for d in d_list:\n",
    "    filename = path + f\"d{d}\" + basename\n",
    "    with open(filename, 'rb') as file_in:\n",
    "         points.append(pickle.load(file_in))\n",
    "\n",
    "\n",
    "# The register associated to each slide can be found in the folder nb/registers.\n",
    "# Two types of files are saved there:\n",
    "# - position_<#>.npy: the positions of the qubits in micrometers, as if they were in the QPU\n",
    "# - rescaled_position_<#>.npy: the positions of the qubits on the same scale as the density slices\n",
    "\n",
    "# import registers\n",
    "path = \"registers/\"\n",
    "basename = \"position_\"\n",
    "positions = []\n",
    "for i in range(len(d_list)):\n",
    "    with open(f'registers/position_{i}.npy', 'rb') as file_in:\n",
    "        pos = np.load(file_in)\n",
    "    positions.append(pos)\n",
    "\n",
    "basename = \"rescaled_position_\"\n",
    "rescaled_positions = []\n",
    "for i in range(len(d_list)):\n",
    "    with open(f'registers/rescaled_position_{i}.npy', 'rb') as file_in:\n",
    "        res_pos = np.load(file_in)\n",
    "    rescaled_positions.append(res_pos)"
   ]
  },
  {
   "cell_type": "code",
   "execution_count": 5,
   "metadata": {},
   "outputs": [
    {
     "name": "stderr",
     "output_type": "stream",
     "text": [
      "/var/folders/lg/jbb7l6y11_343nxvjxmyhh8h0000gn/T/ipykernel_91452/1181404923.py:13: DeprecationWarning: The property ``qiskit.utils.algorithm_globals.QiskitAlgorithmGlobals.random_seed`` is deprecated as of qiskit 0.45.0. It will be removed no earlier than 3 months after the release date. This algorithm utility has been migrated to an independent package: https://github.com/qiskit-community/qiskit-algorithms. You can run ``pip install qiskit_algorithms`` and import ``from qiskit_algorithms.utils`` instead. \n",
      "  algorithm_globals.random_seed = 3\n"
     ]
    },
    {
     "name": "stdout",
     "output_type": "stream",
     "text": [
      "{   'aux_operators_evaluated': None,\n",
      "    'cost_function_evals': 1481,\n",
      "    'eigenvalue': -0.010722623470925705,\n",
      "    'optimal_circuit': <qiskit.circuit.library.n_local.two_local.TwoLocal object at 0x11b50e770>,\n",
      "    'optimal_parameters': {   ParameterVectorElement(θ[1]): -3.1509919654314507,\n",
      "                              ParameterVectorElement(θ[2]): 3.1030733944772395,\n",
      "                              ParameterVectorElement(θ[0]): -3.437370322329935,\n",
      "                              ParameterVectorElement(θ[3]): -0.15426308168805547,\n",
      "                              ParameterVectorElement(θ[4]): -6.203895134099096,\n",
      "                              ParameterVectorElement(θ[5]): -1.4446227407930379,\n",
      "                              ParameterVectorElement(θ[6]): 1.5718191966327526,\n",
      "                              ParameterVectorElement(θ[7]): -4.938524304071353,\n",
      "                              ParameterVectorElement(θ[8]): 3.1424801481409697,\n",
      "                              ParameterVectorElement(θ[9]): -5.601582330711085,\n",
      "                              ParameterVectorElement(θ[10]): -2.3291706493136504,\n",
      "                              ParameterVectorElement(θ[11]): 0.12423343829546203,\n",
      "                              ParameterVectorElement(θ[12]): -3.3571234460067414,\n",
      "                              ParameterVectorElement(θ[13]): 1.4721316828971833,\n",
      "                              ParameterVectorElement(θ[14]): 4.696269545800811,\n",
      "                              ParameterVectorElement(θ[15]): 4.811512660212732},\n",
      "    'optimal_point': array([-3.43737032, -3.15099197,  3.10307339, -0.15426308, -6.20389513,\n",
      "       -1.44462274,  1.5718192 , -4.9385243 ,  3.14248015, -5.60158233,\n",
      "       -2.32917065,  0.12423344, -3.35712345,  1.47213168,  4.69626955,\n",
      "        4.81151266]),\n",
      "    'optimal_value': -0.010722623470925705,\n",
      "    'optimizer_evals': None,\n",
      "    'optimizer_result': <qiskit.algorithms.optimizers.optimizer.OptimizerResult object at 0x107aebd90>,\n",
      "    'optimizer_time': 2.7437379360198975}\n"
     ]
    },
    {
     "name": "stderr",
     "output_type": "stream",
     "text": [
      "/var/folders/lg/jbb7l6y11_343nxvjxmyhh8h0000gn/T/ipykernel_91452/1181404923.py:39: DeprecationWarning: The method ``qiskit.circuit.quantumcircuit.QuantumCircuit.bind_parameters()`` is deprecated as of qiskit 0.45.0. It will be removed no earlier than 3 months after the release date. Use assign_parameters() instead\n",
      "  qc=ansatz.bind_parameters(opt_params)\n"
     ]
    },
    {
     "name": "stdout",
     "output_type": "stream",
     "text": [
      "{'1110': 1, '1101': 2, '1011': 2, '0111': 1019}\n",
      "[1, 0, 0, 0] -0.010743767178636635\n"
     ]
    }
   ],
   "source": [
    "from qiskit.algorithms.optimizers import SLSQP\n",
    "from qiskit.circuit.library import TwoLocal\n",
    "from qiskit.circuit import ClassicalRegister\n",
    "from qiskit.primitives import Estimator\n",
    "from qiskit.algorithms.minimum_eigensolvers import VQE\n",
    "from qiskit.utils import algorithm_globals\n",
    "\n",
    "import sys\n",
    "sys.path.append('../utils/')\n",
    "import qubo_utils as qutils \n",
    "\n",
    "# for reproducable results\n",
    "algorithm_globals.random_seed = 3\n",
    "\n",
    "qubo_matrices = qutils.get_qubo_matrices(densities=densities, rescaled_positions=rescaled_positions)\n",
    "qubo = qubo_matrices[0] # use the first slice as an example to solve\n",
    "\n",
    "# get the corresponding Ising Hamiltonian\n",
    "ising_ham = qutils.get_Ising_hamiltonian(qubo=qubo)\n",
    "\n",
    "# define the ansatz to be used in vqe\n",
    "num_qubits = len(qubo)\n",
    "ansatz = TwoLocal(num_qubits, 'ry', 'cz')\n",
    "optimizer = SLSQP(maxiter=1000)\n",
    "\n",
    "# intialize vqe instance\n",
    "estimator = Estimator()\n",
    "vqe = VQE(estimator, ansatz, optimizer)\n",
    "\n",
    "result = vqe.compute_minimum_eigenvalue(ising_ham)\n",
    "print(result)\n",
    "\n",
    "# Adding the transpiler to reduce the circuit to QASM instructions\n",
    "# supported by the backend\n",
    "from qiskit import transpile \n",
    "from qiskit import Aer\n",
    "\n",
    "opt_params=result.optimal_point\n",
    "qc=ansatz.bind_parameters(opt_params)\n",
    "\n",
    "backend = Aer.get_backend('aer_simulator')\n",
    "# First we have to transpile the quantum circuit \n",
    "# to the low-level QASM instructions used by the \n",
    "# backend\n",
    "qc_compiled = transpile(qc, backend)\n",
    "qc_compiled.measure_active()\n",
    "# Execute the circuit on the qasm simulator.\n",
    "# We've set the number of repeats of the circuit\n",
    "# to be 1024, which is the default.\n",
    "job_sim = backend.run(qc_compiled, shots=1024)\n",
    "\n",
    "# Grab the results from the job.\n",
    "result_sim = job_sim.result()\n",
    "msrmnts = result_sim.get_counts()\n",
    "print(msrmnts)\n",
    "\n",
    "# since bits are flipped, the solution is\n",
    "sol = qutils.get_most_likely(msrmnts=msrmnts)\n",
    "energy = qutils.Ising_energy(assignment=sol, qubo=qubo)\n",
    "\n",
    "print(sol, energy)\n",
    "\n",
    "#qc.decompose().draw('mpl')\n",
    "\n",
    "#ansatz.decompose().draw('mpl', style='iqx')"
   ]
  },
  {
   "cell_type": "code",
   "execution_count": 6,
   "metadata": {},
   "outputs": [
    {
     "data": {
      "text/plain": [
       "([1, 0, 0, 0], -0.010743767178636635)"
      ]
     },
     "execution_count": 6,
     "metadata": {},
     "output_type": "execute_result"
    }
   ],
   "source": [
    "# classical brute-force solution\n",
    "qutils.find_optimum(qubo=qubo)"
   ]
  }
 ],
 "metadata": {
  "kernelspec": {
   "display_name": ".venv",
   "language": "python",
   "name": "python3"
  },
  "language_info": {
   "codemirror_mode": {
    "name": "ipython",
    "version": 3
   },
   "file_extension": ".py",
   "mimetype": "text/x-python",
   "name": "python",
   "nbconvert_exporter": "python",
   "pygments_lexer": "ipython3",
   "version": "3.10.7"
  },
  "orig_nbformat": 4
 },
 "nbformat": 4,
 "nbformat_minor": 2
}
